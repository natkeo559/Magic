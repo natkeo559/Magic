{
 "cells": [
  {
   "cell_type": "markdown",
   "metadata": {},
   "source": [
    "# **Structure and Analysis of Vectorized/Just-In-Time Compiled 3x3 Magic Square Solver**\n",
    "### _Nathan Keough_\n",
    "\n",
    "1262743 function calls (1211430 primitive calls) in 1.510 seconds\n",
    "\n",
    "For advanced benchmark data see 'profile.txt' in the tests dir\n"
   ]
  },
  {
   "cell_type": "code",
   "execution_count": 1,
   "metadata": {},
   "outputs": [],
   "source": [
    "import numpy as np\n",
    "import numba as nb\n",
    "import itertools as it"
   ]
  },
  {
   "cell_type": "markdown",
   "metadata": {},
   "source": [
    "#### Import Packages:\n",
    "* numpy==1.21.5\n",
    "* numba==0.55.1\n",
    "* Itertools (built-in)"
   ]
  },
  {
   "cell_type": "markdown",
   "metadata": {},
   "source": [
    "### Generating all the permutations"
   ]
  },
  {
   "cell_type": "code",
   "execution_count": 2,
   "metadata": {},
   "outputs": [
    {
     "data": {
      "text/plain": [
       "array([[1, 2, 3, ..., 7, 8, 9],\n",
       "       [1, 2, 3, ..., 7, 9, 8],\n",
       "       [1, 2, 3, ..., 8, 7, 9],\n",
       "       ...,\n",
       "       [9, 8, 7, ..., 2, 3, 1],\n",
       "       [9, 8, 7, ..., 3, 1, 2],\n",
       "       [9, 8, 7, ..., 3, 2, 1]], dtype=uint8)"
      ]
     },
     "execution_count": 2,
     "metadata": {},
     "output_type": "execute_result"
    }
   ],
   "source": [
    "a = it.permutations((range(1, 10)))\n",
    "b = np.fromiter(it.chain(*a), dtype=np.uint8).reshape((-1, 9))\n",
    "b"
   ]
  },
  {
   "cell_type": "markdown",
   "metadata": {},
   "source": [
    "For $N x N$ squares, the number of permutations or length of array b is $N^2!$\n",
    "\n",
    "itertools.chain(...) returns elements from itertools.permutations(...) until iterable is exhausted"
   ]
  },
  {
   "cell_type": "markdown",
   "metadata": {},
   "source": [
    "### Check the validity of a square"
   ]
  },
  {
   "cell_type": "code",
   "execution_count": 3,
   "metadata": {},
   "outputs": [],
   "source": [
    "@nb.njit(fastmath=True, locals={'t':nb.b1}, nogil=True, cache=True)\n",
    "def check(arr: np.ndarray) -> bool:\n",
    "    t = (np.array([arr[0], arr[0], arr[0], arr[1], arr[2], arr[3]]) + \n",
    "         np.array([arr[1], arr[3], arr[4], arr[4], arr[4], arr[4]]) + \n",
    "         np.array([arr[2], arr[6], arr[8], arr[7], arr[6], arr[5]]) == 15).all()\n",
    "    return t"
   ]
  },
  {
   "cell_type": "markdown",
   "metadata": {},
   "source": [
    "fastmath=True enables the use of fastmath functions when the function is compiled. In order to translate python into native code, types have to be converted to static equivalents. This is usually inferred but we can save the compiler time by specifying the local variable types (nb.b1 is a bool type). nogil=True, allows a less strict global interpretter lock and allows multicore utilization. cache=True reduces compile times.\n",
    "\n",
    "For a square: $$\\begin{bmatrix} a & b & c \\\\ d & e & f \\\\ g & h & i \\end{bmatrix}$$\n",
    "Checking the validity involves checking the following conditions:\n",
    "\n",
    "$$a+b+c=15$$\n",
    "$$d+e+f=15$$\n",
    "$$g+h+i=15$$\n",
    "$$a+d+g=15$$\n",
    "$$b+e+h=15$$\n",
    "$$c+f+i=15$$\n",
    "$$a+e+i=15$$\n",
    "$$c+e+g=15$$\n",
    "\n",
    "This can be aranged into 3 vectors. The vectors are added together, adding each subsequent element in parallel on the CPU. If any value in the resulting vector is not 15, then the check for np.all(...) returns False.\n",
    "$$\\begin{bmatrix} a & d & g & a & b & c & a & c \\end{bmatrix}$$\n",
    "$$+$$\n",
    "$$\\begin{bmatrix} b & e & h & d & e & f & e & e \\end{bmatrix}$$\n",
    "$$+$$\n",
    "$$\\begin{bmatrix} c & f & i & g & h & i & i & g \\end{bmatrix}$$\n",
    "$$=$$\n",
    "$$\\begin{bmatrix} 15 & 15 & 15 & 15 & 15 & 15 & 15 & 15 \\end{bmatrix}$$\n",
    "\n",
    "This vectorized structure produces fewer CPU instructions. Notice also in the implementation, that the edges c+f+i and g+h+i can be excluded from the vectors as their computation is somehow redundant. The correct results are still always produced.\n"
   ]
  },
  {
   "cell_type": "markdown",
   "metadata": {},
   "source": [
    "### Check All Permutations"
   ]
  },
  {
   "cell_type": "code",
   "execution_count": 4,
   "metadata": {},
   "outputs": [],
   "source": [
    "@nb.njit(fastmath=True, locals={'d':nb.int32, 'i':nb.int32}, nogil=True)\n",
    "def main() -> None:\n",
    "    for i in range(len(b) // 2):\n",
    "        c = b[i]\n",
    "        d = 362879 - i\n",
    "        if check(c):\n",
    "            print(i)\n",
    "            print(c.reshape(3,3), '\\n')\n",
    "            print(d)\n",
    "            print(b[d].reshape(3,3), '\\n')"
   ]
  },
  {
   "cell_type": "markdown",
   "metadata": {},
   "source": [
    "Once again I have compiled this function into a C equivalent. This function is simply looping through the list of permutations. However, we only need to loop through half of the array. As long as we store the index $i$ of the square in its lexicographically ordered set of permutations, we can guarantee that b[$N^2!-i-1$] must also be a valid square. Additionally, the print statements are aranged in a way that makes it easy for their formats and types to be inferred by the compiler. "
   ]
  },
  {
   "cell_type": "code",
   "execution_count": 5,
   "metadata": {},
   "outputs": [
    {
     "name": "stdout",
     "output_type": "stream",
     "text": [
      "69074\n",
      "[[2 7 6]\n",
      " [9 5 1]\n",
      " [4 3 8]] \n",
      "\n",
      "293805\n",
      "[[8 3 4]\n",
      " [1 5 9]\n",
      " [6 7 2]] \n",
      "\n",
      "77576\n",
      "[[2 9 4]\n",
      " [7 5 3]\n",
      " [6 1 8]] \n",
      "\n",
      "285303\n",
      "[[8 1 6]\n",
      " [3 5 7]\n",
      " [4 9 2]] \n",
      "\n",
      "135289\n",
      "[[4 3 8]\n",
      " [9 5 1]\n",
      " [2 7 6]] \n",
      "\n",
      "227590\n",
      "[[6 7 2]\n",
      " [1 5 9]\n",
      " [8 3 4]] \n",
      "\n",
      "157120\n",
      "[[4 9 2]\n",
      " [3 5 7]\n",
      " [8 1 6]] \n",
      "\n",
      "205759\n",
      "[[6 1 8]\n",
      " [7 5 3]\n",
      " [2 9 4]] \n",
      "\n"
     ]
    }
   ],
   "source": [
    "main()"
   ]
  }
 ],
 "metadata": {
  "interpreter": {
   "hash": "ad0eefde2247e5b7a10533938ed4ce9b8667cd605eb0789dd69b9b3932fd3d78"
  },
  "kernelspec": {
   "display_name": "Python 3.7.2 64-bit ('3x3': virtualenv)",
   "language": "python",
   "name": "python3"
  },
  "language_info": {
   "codemirror_mode": {
    "name": "ipython",
    "version": 3
   },
   "file_extension": ".py",
   "mimetype": "text/x-python",
   "name": "python",
   "nbconvert_exporter": "python",
   "pygments_lexer": "ipython3",
   "version": "3.7.2"
  },
  "orig_nbformat": 4
 },
 "nbformat": 4,
 "nbformat_minor": 2
}
