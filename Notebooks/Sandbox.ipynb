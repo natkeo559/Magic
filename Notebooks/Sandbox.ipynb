{
 "cells": [
  {
   "cell_type": "code",
   "execution_count": null,
   "metadata": {},
   "outputs": [],
   "source": [
    "import numpy as np\n",
    "import itertools as it"
   ]
  },
  {
   "cell_type": "code",
   "execution_count": null,
   "metadata": {},
   "outputs": [],
   "source": [
    "a = it.permutations((range(1, 10)))\n",
    "b = np.fromiter(it.chain(*a), dtype=np.uint8).reshape(-1,3,3)"
   ]
  },
  {
   "cell_type": "code",
   "execution_count": null,
   "metadata": {},
   "outputs": [],
   "source": [
    "ma = np.array([15,15,15])\n",
    "\n",
    "rs = np.sum(b.reshape(-1,3), axis=1).reshape(-1,3) #row sums\n",
    "cs = np.sum(b, axis=1) #col sums\n",
    "ds = np.trace(b, axis1=2, axis2=1) #diag sums\n",
    "dr = np.trace(np.flip(b,axis=1), axis1=2) #diag flipped sums\n",
    "\n",
    "i = np.all(rs == ma, axis=1) & np.all(cs == ma, axis=1) & (ds == 15) & (dr == 15)\n",
    "r = b[i]"
   ]
  },
  {
   "cell_type": "code",
   "execution_count": null,
   "metadata": {},
   "outputs": [],
   "source": [
    "print(r)\n",
    "print(np.where(i))"
   ]
  }
 ],
 "metadata": {
  "interpreter": {
   "hash": "ad0eefde2247e5b7a10533938ed4ce9b8667cd605eb0789dd69b9b3932fd3d78"
  },
  "kernelspec": {
   "display_name": "Python 3.7.2 ('3x3')",
   "language": "python",
   "name": "python3"
  },
  "language_info": {
   "codemirror_mode": {
    "name": "ipython",
    "version": 3
   },
   "file_extension": ".py",
   "mimetype": "text/x-python",
   "name": "python",
   "nbconvert_exporter": "python",
   "pygments_lexer": "ipython3",
   "version": "3.7.2"
  },
  "orig_nbformat": 4
 },
 "nbformat": 4,
 "nbformat_minor": 2
}
